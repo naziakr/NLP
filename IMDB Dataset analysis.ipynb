{
 "cells": [
  {
   "cell_type": "markdown",
   "id": "acf1729a",
   "metadata": {},
   "source": [
    "Dataset Imported From: https://www.kaggle.com/datasets/lakshmi25npathi/imdb-dataset-of-50k-movie-reviews/code?datasetId=134715"
   ]
  },
  {
   "cell_type": "code",
   "execution_count": 28,
   "id": "16d5ba44",
   "metadata": {},
   "outputs": [],
   "source": [
    "#Import necessary libraries\n",
    "\n",
    "import pandas as pd\n",
    "import numpy as np\n",
    "import seaborn as sns\n",
    "import re\n",
    "from sklearn.model_selection import train_test_split\n",
    "from sklearn.ensemble import RandomForestClassifier\n",
    "from sklearn.feature_extraction.text import TfidfVectorizer\n",
    "from sklearn.naive_bayes import MultinomialNB\n",
    "from sklearn.pipeline import Pipeline\n",
    "from sklearn.metrics import classification_report\n",
    "from matplotlib import pyplot as plt\n",
    "\n"
   ]
  },
  {
   "cell_type": "markdown",
   "id": "ed2421c4",
   "metadata": {},
   "source": [
    "# Reading the data"
   ]
  },
  {
   "cell_type": "code",
   "execution_count": 10,
   "id": "388fa647",
   "metadata": {},
   "outputs": [
    {
     "data": {
      "text/html": [
       "<div>\n",
       "<style scoped>\n",
       "    .dataframe tbody tr th:only-of-type {\n",
       "        vertical-align: middle;\n",
       "    }\n",
       "\n",
       "    .dataframe tbody tr th {\n",
       "        vertical-align: top;\n",
       "    }\n",
       "\n",
       "    .dataframe thead th {\n",
       "        text-align: right;\n",
       "    }\n",
       "</style>\n",
       "<table border=\"1\" class=\"dataframe\">\n",
       "  <thead>\n",
       "    <tr style=\"text-align: right;\">\n",
       "      <th></th>\n",
       "      <th>review</th>\n",
       "      <th>sentiment</th>\n",
       "    </tr>\n",
       "  </thead>\n",
       "  <tbody>\n",
       "    <tr>\n",
       "      <th>0</th>\n",
       "      <td>One of the other reviewers has mentioned that ...</td>\n",
       "      <td>positive</td>\n",
       "    </tr>\n",
       "    <tr>\n",
       "      <th>1</th>\n",
       "      <td>A wonderful little production. &lt;br /&gt;&lt;br /&gt;The...</td>\n",
       "      <td>positive</td>\n",
       "    </tr>\n",
       "    <tr>\n",
       "      <th>2</th>\n",
       "      <td>I thought this was a wonderful way to spend ti...</td>\n",
       "      <td>positive</td>\n",
       "    </tr>\n",
       "    <tr>\n",
       "      <th>3</th>\n",
       "      <td>Basically there's a family where a little boy ...</td>\n",
       "      <td>negative</td>\n",
       "    </tr>\n",
       "    <tr>\n",
       "      <th>4</th>\n",
       "      <td>Petter Mattei's \"Love in the Time of Money\" is...</td>\n",
       "      <td>positive</td>\n",
       "    </tr>\n",
       "  </tbody>\n",
       "</table>\n",
       "</div>"
      ],
      "text/plain": [
       "                                              review sentiment\n",
       "0  One of the other reviewers has mentioned that ...  positive\n",
       "1  A wonderful little production. <br /><br />The...  positive\n",
       "2  I thought this was a wonderful way to spend ti...  positive\n",
       "3  Basically there's a family where a little boy ...  negative\n",
       "4  Petter Mattei's \"Love in the Time of Money\" is...  positive"
      ]
     },
     "execution_count": 10,
     "metadata": {},
     "output_type": "execute_result"
    }
   ],
   "source": [
    "#read the dataset and store it in a variable df\n",
    "df = pd.read_csv(\"IMDB Dataset.csv\")\n",
    "\n",
    "\n",
    "#print top 5 rows\n",
    "df.head()"
   ]
  },
  {
   "cell_type": "markdown",
   "id": "299b306b",
   "metadata": {},
   "source": [
    "Inspecting the data"
   ]
  },
  {
   "cell_type": "code",
   "execution_count": 11,
   "id": "9752a99a",
   "metadata": {},
   "outputs": [
    {
     "data": {
      "text/plain": [
       "(50000, 2)"
      ]
     },
     "execution_count": 11,
     "metadata": {},
     "output_type": "execute_result"
    }
   ],
   "source": [
    "#print the shape of dataframe\n",
    "df.shape"
   ]
  },
  {
   "cell_type": "code",
   "execution_count": 12,
   "id": "af086e85",
   "metadata": {},
   "outputs": [
    {
     "data": {
      "text/html": [
       "<div>\n",
       "<style scoped>\n",
       "    .dataframe tbody tr th:only-of-type {\n",
       "        vertical-align: middle;\n",
       "    }\n",
       "\n",
       "    .dataframe tbody tr th {\n",
       "        vertical-align: top;\n",
       "    }\n",
       "\n",
       "    .dataframe thead th {\n",
       "        text-align: right;\n",
       "    }\n",
       "</style>\n",
       "<table border=\"1\" class=\"dataframe\">\n",
       "  <thead>\n",
       "    <tr style=\"text-align: right;\">\n",
       "      <th></th>\n",
       "      <th>review</th>\n",
       "      <th>sentiment</th>\n",
       "    </tr>\n",
       "  </thead>\n",
       "  <tbody>\n",
       "    <tr>\n",
       "      <th>count</th>\n",
       "      <td>50000</td>\n",
       "      <td>50000</td>\n",
       "    </tr>\n",
       "    <tr>\n",
       "      <th>unique</th>\n",
       "      <td>49582</td>\n",
       "      <td>2</td>\n",
       "    </tr>\n",
       "    <tr>\n",
       "      <th>top</th>\n",
       "      <td>Loved today's show!!! It was a variety and not...</td>\n",
       "      <td>positive</td>\n",
       "    </tr>\n",
       "    <tr>\n",
       "      <th>freq</th>\n",
       "      <td>5</td>\n",
       "      <td>25000</td>\n",
       "    </tr>\n",
       "  </tbody>\n",
       "</table>\n",
       "</div>"
      ],
      "text/plain": [
       "                                                   review sentiment\n",
       "count                                               50000     50000\n",
       "unique                                              49582         2\n",
       "top     Loved today's show!!! It was a variety and not...  positive\n",
       "freq                                                    5     25000"
      ]
     },
     "execution_count": 12,
     "metadata": {},
     "output_type": "execute_result"
    }
   ],
   "source": [
    "# summary of dataset\n",
    "df.describe()"
   ]
  },
  {
   "cell_type": "code",
   "execution_count": 13,
   "id": "ef7b091a",
   "metadata": {},
   "outputs": [
    {
     "data": {
      "text/plain": [
       "review       0\n",
       "sentiment    0\n",
       "dtype: int64"
      ]
     },
     "execution_count": 13,
     "metadata": {},
     "output_type": "execute_result"
    }
   ],
   "source": [
    "# checkfor null values\n",
    "df.isnull().sum()"
   ]
  },
  {
   "cell_type": "code",
   "execution_count": 14,
   "id": "31d21fa6",
   "metadata": {},
   "outputs": [
    {
     "data": {
      "image/png": "[encoded data removed]",
      "text/plain": [
       "<Figure size 640x480 with 1 Axes>"
      ]
     },
     "metadata": {},
     "output_type": "display_data"
    }
   ],
   "source": [
    "# plot the value count of each sentiment\n",
    "plt.style.use(\"ggplot\")\n",
    "sns.countplot(data = df, x = df[\"sentiment\"])\n",
    "plt.show()"
   ]
  },
  {
   "cell_type": "markdown",
   "id": "9ee409d2",
   "metadata": {},
   "source": [
    "The dataset is balanced"
   ]
  },
  {
   "cell_type": "markdown",
   "id": "a632d9bc",
   "metadata": {},
   "source": [
    "It is difficult for the maching to process the sentiment as a word, therefore, we need to map the sentiments as 0 and 1, in order to allow the model to work on it easily"
   ]
  },
  {
   "cell_type": "code",
   "execution_count": 15,
   "id": "0d903596",
   "metadata": {},
   "outputs": [],
   "source": [
    "#create a new column \"Category\" which represent 1 if the sentiment is positive or 0 if it is negative\n",
    "\n",
    "df[\"Category\"] = df[\"sentiment\"].apply(lambda x: 1 if x==\"positive\" else 0)"
   ]
  },
  {
   "cell_type": "markdown",
   "id": "a9de136b",
   "metadata": {},
   "source": [
    "# Data Cleaning\n",
    "\n",
    "The review has several punctuations, stop words (words used in a sentence such as articles,prepositions which do not depict emotions but are mainly included for grammar and readability)\n",
    "\n",
    "Note: There maybe other isuues to such as emoticons or tags, but for now I am focussing on punctuations and stop words"
   ]
  },
  {
   "cell_type": "code",
   "execution_count": 16,
   "id": "89879fc9",
   "metadata": {},
   "outputs": [],
   "source": [
    "# Create a function to remove the stop words and punctiations\n",
    "\"\"\"\" We will also lemmatise the text, which means, the words left in the review will be reduced to their basic form in order to\n",
    "    avoid several variations of the same word, which might affect the model\"\"\"\n",
    "\n",
    "\n",
    "import spacy\n",
    "\n",
    "\n",
    "# load english language model and create nlp object from it\n",
    "nlp = spacy.load(\"en_core_web_sm\") \n",
    "\n",
    "def preprocess(text):\n",
    "    # remove stop words and lemmatize the text\n",
    "    doc = nlp(text)\n",
    "    filtered_tokens = []\n",
    "    for token in doc:\n",
    "        if token.is_stop or token.is_punct:\n",
    "            continue\n",
    "        filtered_tokens.append(token.lemma_)\n",
    "    \n",
    "    return \" \".join(filtered_tokens) "
   ]
  },
  {
   "cell_type": "code",
   "execution_count": 17,
   "id": "864d97c5",
   "metadata": {},
   "outputs": [],
   "source": [
    "# create a new column \"preprocessed_comment\" and use the utility function above to get the clean data\n",
    "\n",
    "df[\"preprocessed_comment\"] = df[\"review\"].apply(preprocess)"
   ]
  },
  {
   "cell_type": "code",
   "execution_count": 18,
   "id": "4961ebaf",
   "metadata": {},
   "outputs": [
    {
     "data": {
      "text/html": [
       "<div>\n",
       "<style scoped>\n",
       "    .dataframe tbody tr th:only-of-type {\n",
       "        vertical-align: middle;\n",
       "    }\n",
       "\n",
       "    .dataframe tbody tr th {\n",
       "        vertical-align: top;\n",
       "    }\n",
       "\n",
       "    .dataframe thead th {\n",
       "        text-align: right;\n",
       "    }\n",
       "</style>\n",
       "<table border=\"1\" class=\"dataframe\">\n",
       "  <thead>\n",
       "    <tr style=\"text-align: right;\">\n",
       "      <th></th>\n",
       "      <th>review</th>\n",
       "      <th>sentiment</th>\n",
       "      <th>Category</th>\n",
       "      <th>preprocessed_comment</th>\n",
       "    </tr>\n",
       "  </thead>\n",
       "  <tbody>\n",
       "    <tr>\n",
       "      <th>0</th>\n",
       "      <td>One of the other reviewers has mentioned that ...</td>\n",
       "      <td>positive</td>\n",
       "      <td>1</td>\n",
       "      <td>reviewer mention watch 1 oz episode hook right...</td>\n",
       "    </tr>\n",
       "    <tr>\n",
       "      <th>1</th>\n",
       "      <td>A wonderful little production. &lt;br /&gt;&lt;br /&gt;The...</td>\n",
       "      <td>positive</td>\n",
       "      <td>1</td>\n",
       "      <td>wonderful little production &lt; br /&gt;&lt;br /&gt;the f...</td>\n",
       "    </tr>\n",
       "    <tr>\n",
       "      <th>2</th>\n",
       "      <td>I thought this was a wonderful way to spend ti...</td>\n",
       "      <td>positive</td>\n",
       "      <td>1</td>\n",
       "      <td>think wonderful way spend time hot summer week...</td>\n",
       "    </tr>\n",
       "    <tr>\n",
       "      <th>3</th>\n",
       "      <td>Basically there's a family where a little boy ...</td>\n",
       "      <td>negative</td>\n",
       "      <td>0</td>\n",
       "      <td>basically family little boy Jake think zombie ...</td>\n",
       "    </tr>\n",
       "    <tr>\n",
       "      <th>4</th>\n",
       "      <td>Petter Mattei's \"Love in the Time of Money\" is...</td>\n",
       "      <td>positive</td>\n",
       "      <td>1</td>\n",
       "      <td>Petter Mattei love Time money visually stunnin...</td>\n",
       "    </tr>\n",
       "  </tbody>\n",
       "</table>\n",
       "</div>"
      ],
      "text/plain": [
       "                                              review sentiment  Category  \\\n",
       "0  One of the other reviewers has mentioned that ...  positive         1   \n",
       "1  A wonderful little production. <br /><br />The...  positive         1   \n",
       "2  I thought this was a wonderful way to spend ti...  positive         1   \n",
       "3  Basically there's a family where a little boy ...  negative         0   \n",
       "4  Petter Mattei's \"Love in the Time of Money\" is...  positive         1   \n",
       "\n",
       "                                preprocessed_comment  \n",
       "0  reviewer mention watch 1 oz episode hook right...  \n",
       "1  wonderful little production < br /><br />the f...  \n",
       "2  think wonderful way spend time hot summer week...  \n",
       "3  basically family little boy Jake think zombie ...  \n",
       "4  Petter Mattei love Time money visually stunnin...  "
      ]
     },
     "execution_count": 18,
     "metadata": {},
     "output_type": "execute_result"
    }
   ],
   "source": [
    "# the preprocessed DataFrame\n",
    "df.head()"
   ]
  },
  {
   "cell_type": "code",
   "execution_count": 19,
   "id": "7bef702e",
   "metadata": {},
   "outputs": [
    {
     "data": {
      "text/plain": [
       "'reviewer mention watch 1 oz episode hook right exactly happen me.<br /><br />the thing strike Oz brutality unflinche scene violence set right word trust faint hearted timid pull punch regard drug sex violence hardcore classic use word.<br /><br />it call OZ nickname give Oswald Maximum Security State Penitentary focus mainly Emerald City experimental section prison cell glass front face inward privacy high agenda Em City home aryan Muslims gangsta Latinos Christians Italians irish scuffle death stare dodgy dealing shady agreement far away.<br /><br />i main appeal fact go show dare forget pretty picture paint mainstream audience forget charm forget romance oz mess episode see strike nasty surreal ready watch develop taste Oz get accustomed high level graphic violence violence injustice crooked guard sell nickel inmate kill order away mannered middle class inmate turn prison bitch lack street skill prison experience watch Oz comfortable uncomfortable viewing that touch dark'"
      ]
     },
     "execution_count": 19,
     "metadata": {},
     "output_type": "execute_result"
    }
   ],
   "source": [
    "# sample preprocessed comment\n",
    "df.preprocessed_comment[0]"
   ]
  },
  {
   "cell_type": "markdown",
   "id": "64969639",
   "metadata": {},
   "source": [
    "As seen above, there are still html tags in the review.\n",
    "Let's create a function to clean the tag and clean the data further"
   ]
  },
  {
   "cell_type": "code",
   "execution_count": 20,
   "id": "198b69df",
   "metadata": {},
   "outputs": [],
   "source": [
    "# function to remove html tags\n",
    "def remove_html(text):\n",
    "    pattern = re.compile('<.*?>')\n",
    "    return pattern.sub(r'',text)"
   ]
  },
  {
   "cell_type": "code",
   "execution_count": 21,
   "id": "c86d392c",
   "metadata": {},
   "outputs": [],
   "source": [
    "# apply the function to the column \"preprocessed_comments\" to further clean the sata\n",
    "df[\"preprocessed_comment\"] = df[\"preprocessed_comment\"].apply(remove_html)"
   ]
  },
  {
   "cell_type": "code",
   "execution_count": 22,
   "id": "13d71a59",
   "metadata": {},
   "outputs": [
    {
     "data": {
      "text/plain": [
       "'wonderful little production the film technique unassuming- old time BBC fashion give comforting discomforting sense realism entire piece The actor extremely chosen- Michael Sheen get polari voice pat truly seamless editing guide reference Williams diary entry worth watching terrificly write perform piece masterful production great master comedy life The realism come home little thing fantasy guard use traditional dream technique remain solid disappear play knowledge sense particularly scene concern Orton Halliwell set particularly flat Halliwell mural decorate surface terribly'"
      ]
     },
     "execution_count": 22,
     "metadata": {},
     "output_type": "execute_result"
    }
   ],
   "source": [
    "# clean data sample\n",
    "df.preprocessed_comment[1]"
   ]
  },
  {
   "cell_type": "markdown",
   "id": "42ed1c5f",
   "metadata": {},
   "source": [
    "# Split the data"
   ]
  },
  {
   "cell_type": "code",
   "execution_count": 23,
   "id": "faa76eaf",
   "metadata": {},
   "outputs": [],
   "source": [
    "#split the data into train and test data to test teh efficiency of the model\n",
    "X_train, X_test, y_train, y_test = train_test_split(df.preprocessed_comment, df.Category, test_size = 0.2, random_state = 2022)\n"
   ]
  },
  {
   "cell_type": "markdown",
   "id": "5ba12d8f",
   "metadata": {},
   "source": [
    "# Model"
   ]
  },
  {
   "cell_type": "code",
   "execution_count": 24,
   "id": "4124c0b0",
   "metadata": {},
   "outputs": [
    {
     "name": "stdout",
     "output_type": "stream",
     "text": [
      "              precision    recall  f1-score   support\n",
      "\n",
      "           0       0.85      0.85      0.85      5043\n",
      "           1       0.85      0.84      0.85      4957\n",
      "\n",
      "    accuracy                           0.85     10000\n",
      "   macro avg       0.85      0.85      0.85     10000\n",
      "weighted avg       0.85      0.85      0.85     10000\n",
      "\n"
     ]
    }
   ],
   "source": [
    "# in order to convert the text into vector for (for the ease of analysis), TfidfVectorizer is inluded in the pipeline\n",
    "\n",
    "\n",
    "\n",
    "clf = Pipeline([\n",
    "    (\"Tfidvectorizer\", TfidfVectorizer()),\n",
    "    (\"rfc\", (RandomForestClassifier(n_estimators=50, criterion='entropy')))\n",
    "])\n",
    "\n",
    "#2. fit with X_train and y_train\n",
    "clf.fit(X_train, y_train)\n",
    "\n",
    "\n",
    "#3. get the predictions for X_test and store it in y_pred\n",
    "y_pred = clf.predict(X_test)\n",
    "\n",
    "#4. print the classfication report\n",
    "print(classification_report(y_test, y_pred))"
   ]
  },
  {
   "cell_type": "markdown",
   "id": "57453619",
   "metadata": {},
   "source": [
    "The fi-score, which is the harmonic mean of recall and precision, is 0.85.\n",
    "Let's see what the confusion matrix has to tell us about true and false positives and negatives"
   ]
  },
  {
   "cell_type": "code",
   "execution_count": 25,
   "id": "5fcf44ea",
   "metadata": {},
   "outputs": [
    {
     "data": {
      "text/plain": [
       "Text(95.72222222222221, 0.5, 'Truth')"
      ]
     },
     "execution_count": 25,
     "metadata": {},
     "output_type": "execute_result"
    },
    {
     "data": {
      "image/png": "[encoded data removed]",
      "text/plain": [
       "<Figure size 1000x700 with 2 Axes>"
      ]
     },
     "metadata": {},
     "output_type": "display_data"
    }
   ],
   "source": [
    "\n",
    "from sklearn.metrics import confusion_matrix\n",
    "cm = confusion_matrix(y_test, y_pred)\n",
    "\n",
    "plt.figure(figsize = (10,7))\n",
    "sns.heatmap(cm, annot=True, fmt='d')\n",
    "plt.xlabel('Predicted')\n",
    "plt.ylabel('Truth')"
   ]
  },
  {
   "cell_type": "markdown",
   "id": "147798a2",
   "metadata": {},
   "source": [
    "Explanation for confusion matrix\n",
    "\n",
    "Every prediction can be classified as:\n",
    "1) True positive (correctly predicted as positive - was positive and identified as positive by the model)\n",
    "2) False positive (incorrectly predicted as positive - was negetive but identified as positive by the model)\n",
    "3) True negative (correctly predicted as negative - was negative and identified as negative by the model)\n",
    "4) False negative (incorrectly predicted as negative - was positive but identified as negative by the model)\n",
    "\n",
    "The tiles in light color are True Postive (4272) and True Negative (4120) - These were predicted correct\n",
    "The tiles in black are False Negative (771) and False Positive (837) - These were incorrectly predicted\n"
   ]
  },
  {
   "cell_type": "markdown",
   "id": "dc9df8a0",
   "metadata": {},
   "source": [
    "Another popular classifier for text data is Multinomial Naive Bayes classifier. Using it to model the data"
   ]
  },
  {
   "cell_type": "code",
   "execution_count": 26,
   "id": "52332f2c",
   "metadata": {},
   "outputs": [
    {
     "name": "stdout",
     "output_type": "stream",
     "text": [
      "              precision    recall  f1-score   support\n",
      "\n",
      "           0       0.86      0.87      0.87      5043\n",
      "           1       0.87      0.86      0.86      4957\n",
      "\n",
      "    accuracy                           0.86     10000\n",
      "   macro avg       0.86      0.86      0.86     10000\n",
      "weighted avg       0.86      0.86      0.86     10000\n",
      "\n"
     ]
    }
   ],
   "source": [
    "#1. create a pipeline object\n",
    "clf = Pipeline([\n",
    "    (\"Tfidvectorizer\", TfidfVectorizer()),\n",
    "    (\"NB\",  MultinomialNB(alpha = 0.75))\n",
    "])\n",
    "\n",
    "\n",
    "\n",
    "#2. fit with X_train and y_train\n",
    "clf.fit(X_train, y_train)\n",
    "\n",
    "\n",
    "#3. get the predictions for X_test and store it in y_pred\n",
    "y_pred = clf.predict(X_test)\n",
    "\n",
    "\n",
    "#4. print the classfication report\n",
    "print(classification_report(y_test, y_pred))"
   ]
  },
  {
   "cell_type": "markdown",
   "id": "0ec74a1c",
   "metadata": {},
   "source": [
    " From the f1-score, it is clear that this model performs better.\n",
    " Although the accuracy has increased but 0.02%, for a large dataset this can mean a huge difference"
   ]
  },
  {
   "cell_type": "code",
   "execution_count": 27,
   "id": "b92d2248",
   "metadata": {},
   "outputs": [
    {
     "data": {
      "text/plain": [
       "Text(95.72222222222221, 0.5, 'Truth')"
      ]
     },
     "execution_count": 27,
     "metadata": {},
     "output_type": "execute_result"
    },
    {
     "data": {
      "image/png": "[encoded data removed]",
      "text/plain": [
       "<Figure size 1000x700 with 2 Axes>"
      ]
     },
     "metadata": {},
     "output_type": "display_data"
    }
   ],
   "source": [
    "cm = confusion_matrix(y_test, y_pred)\n",
    "\n",
    "plt.figure(figsize = (10,7))\n",
    "sns.heatmap(cm, annot=True, fmt='d')\n",
    "plt.xlabel('Predicted')\n",
    "plt.ylabel('Truth')"
   ]
  },
  {
   "cell_type": "markdown",
   "id": "7f72995d",
   "metadata": {},
   "source": [
    "The confision matrix reveals an increase in True Positive and True Negative and a decrease in False Positive and False Negative"
   ]
  },
  {
   "cell_type": "markdown",
   "id": "db54cec8",
   "metadata": {},
   "source": [
    "# Future reccomendation"
   ]
  },
  {
   "cell_type": "markdown",
   "id": "b93b9fbd",
   "metadata": {},
   "source": [
    "1) As I did not find any emoticon in the sample reviews that I checked, I did not apply the code for it. This can be done during the cleaning process.\n",
    "\n",
    "2) The model can be tuned - hyperparameter tuning of MultinomialNB model"
   ]
  }
 ],
 "metadata": {
  "kernelspec": {
   "display_name": "Python 3 (ipykernel)",
   "language": "python",
   "name": "python3"
  },
  "language_info": {
   "codemirror_mode": {
    "name": "ipython",
    "version": 3
   },
   "file_extension": ".py",
   "mimetype": "text/x-python",
   "name": "python",
   "nbconvert_exporter": "python",
   "pygments_lexer": "ipython3",
   "version": "3.10.9"
  }
 },
 "nbformat": 4,
 "nbformat_minor": 5
}
